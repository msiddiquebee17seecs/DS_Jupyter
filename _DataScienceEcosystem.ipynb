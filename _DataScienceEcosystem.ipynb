{
 "cells": [
  {
   "cell_type": "markdown",
   "id": "b20b03cf-b0bd-4476-8a87-928434ca8c73",
   "metadata": {},
   "source": [
    "# Data Science Tools and Ecosystem"
   ]
  },
  {
   "cell_type": "markdown",
   "id": "43558bb5-4f21-4a6f-be6a-07be0fc8d0b4",
   "metadata": {},
   "source": [
    "In this notebook, Data Science Tools and Ecosystem are summarized."
   ]
  },
  {
   "cell_type": "markdown",
   "id": "7fc06bb6-7515-46f1-a3c7-b72cb3c0c8cb",
   "metadata": {},
   "source": [
    "Some of the popular languages that Data Scientists use are:\n",
    "1. R\n",
    "2. Python\n",
    "3. SQL\n",
    "4. Java\n",
    "5. Julia"
   ]
  },
  {
   "cell_type": "markdown",
   "id": "61a98e95-98cd-4e03-b5b6-b8bd51042efd",
   "metadata": {},
   "source": [
    "Some of the commonly used libraries used by Data Scientists include:\n",
    "1. ggplot\n",
    "2. dplyer\n",
    "3. caret"
   ]
  },
  {
   "cell_type": "markdown",
   "id": "f4d41b42-c64a-4828-a7af-103e1ac5651f",
   "metadata": {},
   "source": [
    "| Data Science Tools |\n",
    "|------------------- |\n",
    "| Apache Spark\n",
    "| Watson Studio\n",
    "| Matlab "
   ]
  },
  {
   "cell_type": "markdown",
   "id": "6fe5fbc9-f620-49c9-99fa-031fa0f12701",
   "metadata": {},
   "source": [
    "### Below are a few examples of evaluating arithmetic expressions in Python"
   ]
  },
  {
   "cell_type": "code",
   "execution_count": 14,
   "id": "a8bc5f27-f1a3-4331-ae42-99c6f0548a1c",
   "metadata": {},
   "outputs": [
    {
     "data": {
      "text/plain": [
       "17"
      ]
     },
     "execution_count": 14,
     "metadata": {},
     "output_type": "execute_result"
    }
   ],
   "source": [
    "# This a simple arithmetic expression to mutiply then add integers\n",
    "(3*4)+5\n"
   ]
  },
  {
   "cell_type": "code",
   "execution_count": 15,
   "id": "1ff0303e-4ca0-4646-9d08-74843c6a154f",
   "metadata": {},
   "outputs": [
    {
     "data": {
      "text/plain": [
       "3.3333333333333335"
      ]
     },
     "execution_count": 15,
     "metadata": {},
     "output_type": "execute_result"
    }
   ],
   "source": [
    "# This will convert 200 minutes to hours by diving by 60\n",
    "200/60"
   ]
  },
  {
   "cell_type": "markdown",
   "id": "2bcbc765-f176-42fa-a9a6-450558884600",
   "metadata": {},
   "source": [
    "**Objectives:**\n",
    "- Jupyter Notebook\n",
    "- R & R STUDIO\n",
    "- Git & Git Commands"
   ]
  },
  {
   "cell_type": "markdown",
   "id": "b2efb8aa-a5e2-44ff-8804-2f4c5e642419",
   "metadata": {},
   "source": [
    "## Author \n",
    "Hamza"
   ]
  },
  {
   "cell_type": "code",
   "execution_count": null,
   "id": "d43c5002-e955-4709-90b0-6b95f2083a32",
   "metadata": {},
   "outputs": [],
   "source": []
  }
 ],
 "metadata": {
  "kernelspec": {
   "display_name": "Python 3 (ipykernel)",
   "language": "python",
   "name": "python3"
  },
  "language_info": {
   "codemirror_mode": {
    "name": "ipython",
    "version": 3
   },
   "file_extension": ".py",
   "mimetype": "text/x-python",
   "name": "python",
   "nbconvert_exporter": "python",
   "pygments_lexer": "ipython3",
   "version": "3.11.3"
  }
 },
 "nbformat": 4,
 "nbformat_minor": 5
}
